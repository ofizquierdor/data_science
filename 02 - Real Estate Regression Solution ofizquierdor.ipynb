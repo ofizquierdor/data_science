# 1. Cargar el dataset y hacerle .head() para ver cuales columnas son numericas y cuales de categoria

import pandas as pd

# load the training dataset
!wget https://raw.githubusercontent.com/ofizquierdor/ml-basics/master/challenges/data/real_estate.csv
data = pd.read_csv('real_estate.csv')

# Print how many rows of data we have
print(f"We have {len(data)} rows of data")

# +++
# 2. 
